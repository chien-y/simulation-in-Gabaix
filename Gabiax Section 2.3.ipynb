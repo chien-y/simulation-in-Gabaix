{
 "cells": [
  {
   "cell_type": "code",
   "execution_count": 2,
   "metadata": {},
   "outputs": [],
   "source": [
    "import numpy as np\n",
    "from scipy.stats import levy_stable\n",
    "from scipy.stats import levy\n",
    "from scipy.stats import pareto\n",
    "from scipy.stats import lognorm\n",
    "from numba import jit\n",
    "from numba import njit, prange\n",
    "import matplotlib.pyplot as plt\n",
    "%matplotlib inline"
   ]
  },
  {
   "cell_type": "markdown",
   "metadata": {},
   "source": [
    " In the paper, the Monte Carlo simulations show that the median h = 12%.\n",
    " - $ \\sigma_{GDP} = h\\sigma $\n",
    " \n",
    " - Proposition 2:\n",
    " $$ \\sigma_{GDP} \\sim \\frac{\\nu_{\\zeta}} {\\ln{N}} \\sigma $$\n",
    " \n",
    " $\\nu_{\\zeta}$ is the square root of a stable Levy distribution with exponent $\\zeta/2$"
   ]
  },
  {
   "cell_type": "code",
   "execution_count": 3,
   "metadata": {},
   "outputs": [],
   "source": [
    "σ_π = 0.12\n",
    "a = 1\n",
    "ζ = 1  # Zipf's law\n",
    "x0 = a**(1/ζ)\n",
    "N = 1000000\n",
    "sim = 1000\n",
    "eps = np.finfo(float).eps"
   ]
  },
  {
   "cell_type": "markdown",
   "metadata": {},
   "source": [
    "Use Proposition 2 to find h directly."
   ]
  },
  {
   "cell_type": "code",
   "execution_count": 5,
   "metadata": {
    "scrolled": true
   },
   "outputs": [
    {
     "name": "stdout",
     "output_type": "stream",
     "text": [
      "0.12938491284027032\n"
     ]
    }
   ],
   "source": [
    "rvs = levy_stable.rvs(alpha=ζ/2, beta=1, loc=x0, size=N)\n",
    "h = np.median(np.sqrt(rvs)/np.log(N))\n",
    "print(h)"
   ]
  },
  {
   "cell_type": "markdown",
   "metadata": {},
   "source": [
    "Simulate the herfindhl for Pareto distribution. \n",
    "\n",
    "$$h = \\big[\\sum_{i=1}^{N} (\\frac{S_{it}}{Y_t})^2\\big]^{0.5} $$\n",
    "$$Y_t = \\sum_{i=1}^{N} S_{it} $$"
   ]
  },
  {
   "cell_type": "markdown",
   "metadata": {},
   "source": [
    "Except for $\\zeta=1$, also assume that $\\zeta$ is 1.059 following Axtell(2001)."
   ]
  },
  {
   "cell_type": "code",
   "execution_count": 9,
   "metadata": {},
   "outputs": [
    {
     "name": "stdout",
     "output_type": "stream",
     "text": [
      "0.11809041178079463\n",
      "0.08390069858522964\n"
     ]
    }
   ],
   "source": [
    "@njit(parallel=True)\n",
    "def herfindahl(nSim, ζ, N=1000000):\n",
    "    \n",
    "    h = np.zeros(nSim)\n",
    "    for i in range(nSim):    \n",
    "        size = (np.random.pareto(ζ, N) + 1) * x0         \n",
    "        h[i] = np.sqrt(np.sum(np.square(size / np.sum(size))))\n",
    "\n",
    "    return h    \n",
    "\n",
    "h = herfindahl(nSim=1000, ζ=1)\n",
    "print(np.median(h))\n",
    "h = herfindahl(nSim=1000, ζ=1.059)\n",
    "print(np.median(h))"
   ]
  },
  {
   "cell_type": "markdown",
   "metadata": {},
   "source": [
    "### Simulate the herfindahl for log-normal.\n",
    "\n",
    "- Calibrate the parameters $\\mu$ and $\\sigma$\n",
    "\n",
    "    - h is decreasing in $\\mu$ by simulation given $\\sigma$ is near one.\n",
    "\n",
    "    - h is decreasing in $\\sigma$ by simulation and since h itself is a measure of variance.\n",
    "\n",
    "    - When $\\mu=0$ and $\\sigma$ is around 0.8, the distribution(shape) matches Pareto distribution under Zipf's law where $\\zeta=1$ and the minimum size is one."
   ]
  },
  {
   "cell_type": "code",
   "execution_count": 3,
   "metadata": {
    "scrolled": false
   },
   "outputs": [
    {
     "data": {
      "image/png": "[encoded data removed]",
      "text/plain": [
       "<Figure size 432x288 with 1 Axes>"
      ]
     },
     "metadata": {
      "needs_background": "light"
     },
     "output_type": "display_data"
    }
   ],
   "source": [
    "# Find the parameters for lognormal\n",
    "size = (np.random.pareto(ζ, size=N) + 1)*x0 \n",
    "plt.hist(size, bins=100, range=(0,10), density=True, label='Pareto')\n",
    "\n",
    "size = np.random.lognormal(0, 0.77, size=N)\n",
    "mask = size>1\n",
    "plt.hist(size[mask], bins=100, range=(0,10), density=True, alpha=.5, label='lognormal')\n",
    "\n",
    "plt.legend()\n",
    "plt.show()"
   ]
  },
  {
   "cell_type": "code",
   "execution_count": 26,
   "metadata": {
    "scrolled": true
   },
   "outputs": [
    {
     "data": {
      "image/png": "[encoded data removed]",
      "text/plain": [
       "<Figure size 432x288 with 1 Axes>"
      ]
     },
     "metadata": {
      "needs_background": "light"
     },
     "output_type": "display_data"
    }
   ],
   "source": [
    "# lognormal pdf\n",
    "σ = 0.8\n",
    "μ = 0\n",
    "pr_1 = lognorm.cdf(x=1, s=σ, loc=0, scale=1)  # scale=exp(μ)=1\n",
    "# g = lambda x: 1/(x*σ*np.sqrt(2*np.pi)) * np.exp(-(np.log(x)-μ)**2 / (2*σ**2))  / (1-pr_1)\n",
    "g = lambda y: lognorm.pdf(y, s=σ) / (1-pr_1)\n",
    "\n",
    "# Pareto pdf\n",
    "ζ = 1\n",
    "a = 1\n",
    "f = lambda x: a*ζ / x**(ζ+1)\n",
    "\n",
    "xd = np.linspace(1,30, 100000)\n",
    "plt.plot(xd, g(xd), label='lognormal')\n",
    "plt.plot(xd, f(xd), label='Pareto')\n",
    "plt.legend()\n",
    "plt.show()"
   ]
  },
  {
   "cell_type": "markdown",
   "metadata": {},
   "source": [
    "Let $F_X(x)$ be the cumulative distribution function for log-normal. After setting the minumum value $\\bar{x}$ and rescale the probability function, the distribution is \n",
    "\n",
    "$$\\frac{F_X(x) - F_X(\\bar{x})}{1-F_X(\\bar{x})}, x\\ge 0. $$\n",
    "\n",
    "Thus, the density is $\\frac{f_X(x)}{1-F_X(\\bar{x})}$, where $f_X(x)$ is the density for log-normal:\n",
    "\n",
    "$$\\frac{1}{\\sigma x \\sqrt{2\\pi}} \\exp\\{ {-\\frac{(\\ln{x-\\mu})^2}{2\\sigma^2}} \\}$$"
   ]
  },
  {
   "cell_type": "markdown",
   "metadata": {},
   "source": [
    "To find the approximated log-normal distribution for Pareto under Zipf's law, define the norm,\n",
    "\n",
    "$$\\lVert f - g \\rVert_{\\infty} = \\sup_{x\\in [1,\\infty)} |f(x) - g(x)|. $$\n",
    "\n",
    "Here, I compute the supnorm over $[1,30]$ by the ovservation of the above graph and find the candidates for parameter $\\sigma$. "
   ]
  },
  {
   "cell_type": "code",
   "execution_count": 46,
   "metadata": {},
   "outputs": [
    {
     "name": "stdout",
     "output_type": "stream",
     "text": [
      "0.805\n",
      "0.806\n",
      "0.807\n",
      "0.808\n",
      "0.809\n"
     ]
    }
   ],
   "source": [
    "tol = 0.014 # This is almost the smallest tolerance I can choose.\n",
    "for σ in np.arange(0.7, 1, 0.001):\n",
    "    g = lambda x: 1/(x*σ*np.sqrt(2*np.pi)) * np.exp(-(np.log(x)-μ)**2 / (2*σ**2))  / (1-pr_1)\n",
    "    if np.max((f(xd) - g(xd))) < tol:\n",
    "        print(σ)"
   ]
  },
  {
   "cell_type": "markdown",
   "metadata": {},
   "source": [
    "Set the shape parameter $\\sigma$ for lognormal to be less than one. Simulate the herfindahl up to $\\sigma=2$."
   ]
  },
  {
   "cell_type": "code",
   "execution_count": 43,
   "metadata": {
    "scrolled": true
   },
   "outputs": [
    {
     "name": "stdout",
     "output_type": "stream",
     "text": [
      "0.0016159188795457954\n",
      "0.0016988164150762096\n",
      "0.0018040346338212849\n",
      "0.0019363871173554961\n",
      "0.007067853323811953\n"
     ]
    }
   ],
   "source": [
    "@njit(parallel=True)\n",
    "def h_lognormal(nSim, sigma, N=1000000):\n",
    "    \n",
    "    h = np.zeros(nSim)\n",
    "    for i in range(nSim):    \n",
    "        size = np.random.lognormal(0, sigma, size=N)        \n",
    "        mask=size>1\n",
    "        h[i] = np.sqrt(np.sum(np.square(size[mask] / np.sum(size[mask]))))\n",
    "    return h    \n",
    "\n",
    "for s in [0.7, 0.8, 0.9, 1, 2]:\n",
    "    h = h_lognormal(nSim=1000, sigma=s)\n",
    "    print(np.median(h))"
   ]
  },
  {
   "cell_type": "markdown",
   "metadata": {},
   "source": [
    "- h is in a smaller magnitude comparing that of Pareto distribution, even in the case that $\\sigma=2$."
   ]
  },
  {
   "cell_type": "markdown",
   "metadata": {},
   "source": [
    "Plot the output's distribution. Check Proposition 2.\n",
    "\n",
    "$$\\sigma_{GDP}\\ln{N} \\overset{d}\\rightarrow  \\nu_{\\zeta} \\sigma $$\n",
    "\n",
    "$\\nu_{\\zeta}$ is the square root of a stable Levy distribution with exponent $\\zeta/2$"
   ]
  },
  {
   "cell_type": "markdown",
   "metadata": {},
   "source": [
    "Simulate $\\sigma_{GDP}$."
   ]
  },
  {
   "cell_type": "code",
   "execution_count": 47,
   "metadata": {},
   "outputs": [
    {
     "name": "stdout",
     "output_type": "stream",
     "text": [
      "[0.0408337  0.03691378 0.00565602 ... 0.00948032 0.02980851 0.03239216]\n"
     ]
    }
   ],
   "source": [
    "@njit(parallel=True)\n",
    "def GDP_std(nSim, nGDP=100, N=1000000):\n",
    "\n",
    "    σ_GDP = np.zeros(nSim)\n",
    "    for i in range(nSim):\n",
    "\n",
    "        size = (np.random.pareto(ζ, N) + 1) * x0\n",
    "        σ_GDP[i] = σ_π * np.sqrt(np.sum(np.square(size / np.sum(size))))\n",
    "#         print('.', end='')\n",
    "\n",
    "    return σ_GDP\n",
    "\n",
    "\n",
    "σ_GDP = GDP_std(nSim=sim)\n",
    "print(σ_GDP)"
   ]
  },
  {
   "cell_type": "code",
   "execution_count": 48,
   "metadata": {},
   "outputs": [
    {
     "name": "stdout",
     "output_type": "stream",
     "text": [
      "0.01428858041912609\n"
     ]
    },
    {
     "data": {
      "image/png": "[encoded data removed]",
      "text/plain": [
       "<Figure size 432x288 with 1 Axes>"
      ]
     },
     "metadata": {
      "needs_background": "light"
     },
     "output_type": "display_data"
    }
   ],
   "source": [
    "print(np.median(σ_GDP))\n",
    "plt.hist((σ_GDP*np.log(N)/σ_π)**2, bins=200, label='$\\sigma_{GDP}$', density=True)\n",
    "x = np.linspace(0,175,500)\n",
    "plt.plot(x, levy_stable.pdf(x, alpha=ζ/2, beta=1, loc=a**(1/ζ)), color='r', alpha=0.5)\n",
    "plt.legend()\n",
    "plt.show()"
   ]
  },
  {
   "cell_type": "markdown",
   "metadata": {},
   "source": [
    "### Conclusion\n",
    "\n",
    "Under Zipf's law($\\zeta=1$), when the firm sizes follow Pareto distribution, the simulated herfindahl is around 11.89%.  While if the firm size is log-normal distributed, the herfindahl is less than 0.2% if the variance of the distribution is less than 1 (similar shapes). \n",
    "\n",
    "Thus, given the standard deviation of firm's growth rate ($\\sigma=12\\%$), the simulated standard deciation of GDP growth rate are around 1.4% for Pareto distributed firm size and less than 0.024% for log-normal distribution. Since the empirically measured macroeconomic fluctuation is around 1%, the log-normal distribution is not reasonable under this model.\n",
    "\n",
    "This result also follows Proposition 1 which states that \n",
    "\n",
    "$$\\sigma_{GDP} \\sim \\frac{(E[S^2])^{0.5}}{E[S]} \\frac{\\sigma}{\\sqrt{N}}$$\n",
    "\n",
    "where $\\frac{\\sigma}{\\sqrt{N}} = 0.012\\%$ under the same assumption.\n",
    "\n",
    "Therefore, Pareto distribution makes more sense for firm sizes comparing log-normal distribution. \n"
   ]
  },
  {
   "cell_type": "code",
   "execution_count": null,
   "metadata": {},
   "outputs": [],
   "source": []
  }
 ],
 "metadata": {
  "kernelspec": {
   "display_name": "Python 3",
   "language": "python",
   "name": "python3"
  },
  "language_info": {
   "codemirror_mode": {
    "name": "ipython",
    "version": 3
   },
   "file_extension": ".py",
   "mimetype": "text/x-python",
   "name": "python",
   "nbconvert_exporter": "python",
   "pygments_lexer": "ipython3",
   "version": "3.7.3"
  }
 },
 "nbformat": 4,
 "nbformat_minor": 2
}
