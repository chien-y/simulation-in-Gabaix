{
 "cells": [
  {
   "cell_type": "code",
   "execution_count": 1,
   "metadata": {},
   "outputs": [],
   "source": [
    "import numpy as np\n",
    "from scipy.stats import levy_stable\n",
    "from scipy.stats import levy\n",
    "from scipy.stats import pareto\n",
    "from numba import jit\n",
    "from numba import njit, prange\n",
    "import matplotlib.pyplot as plt\n",
    "%matplotlib inline"
   ]
  },
  {
   "cell_type": "markdown",
   "metadata": {},
   "source": [
    " In the paper, the Monte Carlo simulations show that the median h = 12%.\n",
    " - $ \\sigma_{GDP} = h\\sigma $\n",
    " \n",
    " - Proposition 2:\n",
    " $$ \\sigma_{GDP} \\sim \\frac{\\nu_{\\zeta}} {\\ln{N}} \\sigma $$\n",
    " \n",
    " $\\nu_{\\zeta}$ is the square root of a stable Levy distribution with exponent $\\zeta/2$"
   ]
  },
  {
   "cell_type": "code",
   "execution_count": 10,
   "metadata": {},
   "outputs": [],
   "source": [
    "σ_π = 0.12\n",
    "a = 1\n",
    "ζ = 1  # Zipf's law\n",
    "x0 = a**(1/ζ)\n",
    "N = 1000000\n",
    "sim = 1000"
   ]
  },
  {
   "cell_type": "markdown",
   "metadata": {},
   "source": [
    "Use Proposition 2 to find h directly."
   ]
  },
  {
   "cell_type": "code",
   "execution_count": 5,
   "metadata": {
    "scrolled": true
   },
   "outputs": [
    {
     "name": "stdout",
     "output_type": "stream",
     "text": [
      "0.12938491284027032\n"
     ]
    }
   ],
   "source": [
    "rvs = levy_stable.rvs(alpha=ζ/2, beta=1, loc=x0, size=N)\n",
    "h = np.median(np.sqrt(rvs)/np.log(N))\n",
    "print(h)"
   ]
  },
  {
   "cell_type": "markdown",
   "metadata": {},
   "source": [
    "Simalate the herfindhl for Pareto distribution. \n",
    "\n",
    "$$h = \\big[\\sum_{i=1}^{N} (\\frac{S_{it}}{Y_t})^2\\big]^{0.5} $$\n",
    "$$Y_t = \\sum_{i=1}^{N} S_{it} $$"
   ]
  },
  {
   "cell_type": "markdown",
   "metadata": {},
   "source": [
    "ALso assume $\\zeta$ is 1.059 following Axtell(2001)."
   ]
  },
  {
   "cell_type": "code",
   "execution_count": 9,
   "metadata": {},
   "outputs": [
    {
     "name": "stdout",
     "output_type": "stream",
     "text": [
      "0.11809041178079463\n",
      "0.08390069858522964\n"
     ]
    }
   ],
   "source": [
    "@njit(parallel=True)\n",
    "def herfindahl(nSim, ζ, N=1000000):\n",
    "    \n",
    "    h = np.zeros(nSim)\n",
    "    for i in range(nSim):    \n",
    "        size = (np.random.pareto(ζ, N) + 1) * x0         \n",
    "        h[i] = np.sqrt(np.sum(np.square(size / np.sum(size))))\n",
    "\n",
    "    return h    \n",
    "\n",
    "h = herfindahl(nSim=1000, ζ=1)\n",
    "print(np.median(h))\n",
    "\n",
    "h = herfindahl(nSim=1000, ζ=1.059)\n",
    "print(np.median(h))"
   ]
  },
  {
   "cell_type": "markdown",
   "metadata": {},
   "source": [
    "Simulate the herfindahl for log-normal."
   ]
  },
  {
   "cell_type": "code",
   "execution_count": 13,
   "metadata": {
    "scrolled": false
   },
   "outputs": [
    {
     "data": {
      "image/png": "[encoded data removed]",
      "text/plain": [
       "<Figure size 432x288 with 1 Axes>"
      ]
     },
     "metadata": {
      "needs_background": "light"
     },
     "output_type": "display_data"
    }
   ],
   "source": [
    "# Find the parameters for lognormal\n",
    "size = (np.random.pareto(ζ, size=N) + 1)*x0 \n",
    "plt.hist(size, bins=100, range=(0,10), density=True, label='Pareto')\n",
    "size = np.random.lognormal(0, 0.77, size=N)\n",
    "mask = size>1\n",
    "\n",
    "plt.hist(size[mask], bins=100, range=(0,10), density=True, alpha=.5, label='lognormal')\n",
    "plt.legend()\n",
    "plt.show()"
   ]
  },
  {
   "cell_type": "markdown",
   "metadata": {},
   "source": [
    "Set the shape parameter $\\sigma$ for lognormal to be less than one."
   ]
  },
  {
   "cell_type": "code",
   "execution_count": 7,
   "metadata": {
    "scrolled": false
   },
   "outputs": [
    {
     "name": "stdout",
     "output_type": "stream",
     "text": [
      "0.0016159235500254874\n",
      "0.0018041457138818467\n",
      "0.0019366719673537581\n",
      "0.007049943650016512\n"
     ]
    }
   ],
   "source": [
    "@njit(parallel=True)\n",
    "def h_lognormal(nSim, sigma, N=1000000):\n",
    "    \n",
    "    h = np.zeros(nSim)\n",
    "    for i in range(nSim):    \n",
    "        size = np.random.lognormal(0, sigma, size=N)        \n",
    "        mask=size>1\n",
    "        h[i] = np.sqrt(np.sum(np.square(size[mask] / np.sum(size[mask]))))\n",
    "    return h    \n",
    "\n",
    "for s in [0.7, 0.9, 1, 2]:\n",
    "    h = h_lognormal(nSim=1000, sigma=s)\n",
    "    print(np.median(h))"
   ]
  },
  {
   "cell_type": "markdown",
   "metadata": {},
   "source": [
    "Plot the output's distribution. Check Proposition 2.\n",
    "\n",
    "$$\\sigma_{GDP}\\ln{N} \\overset{d}\\rightarrow  \\nu_{\\zeta} \\sigma $$\n",
    "\n",
    "$\\nu_{\\zeta}$ is the square root of a stable Levy distribution with exponent $\\zeta/2$"
   ]
  },
  {
   "cell_type": "markdown",
   "metadata": {},
   "source": [
    "Simulate $\\sigma_{GDP}$."
   ]
  },
  {
   "cell_type": "code",
   "execution_count": 47,
   "metadata": {},
   "outputs": [
    {
     "name": "stdout",
     "output_type": "stream",
     "text": [
      "[0.0408337  0.03691378 0.00565602 ... 0.00948032 0.02980851 0.03239216]\n"
     ]
    }
   ],
   "source": [
    "@njit(parallel=True)\n",
    "def GDP_std(nSim, nGDP=100, N=1000000):\n",
    "\n",
    "    σ_GDP = np.zeros(nSim)\n",
    "    for i in range(nSim):\n",
    "\n",
    "        size = (np.random.pareto(ζ, N) + 1) * x0\n",
    "        σ_GDP[i] = σ_π * np.sqrt(np.sum(np.square(size / np.sum(size))))\n",
    "#         print('.', end='')\n",
    "\n",
    "    return σ_GDP\n",
    "\n",
    "\n",
    "σ_GDP = GDP_std(nSim=sim)\n",
    "print(σ_GDP)"
   ]
  },
  {
   "cell_type": "code",
   "execution_count": 48,
   "metadata": {},
   "outputs": [
    {
     "name": "stdout",
     "output_type": "stream",
     "text": [
      "0.01428858041912609\n"
     ]
    },
    {
     "data": {
      "image/png": "[encoded data removed]",
      "text/plain": [
       "<Figure size 432x288 with 1 Axes>"
      ]
     },
     "metadata": {
      "needs_background": "light"
     },
     "output_type": "display_data"
    }
   ],
   "source": [
    "print(np.median(σ_GDP))\n",
    "plt.hist((σ_GDP*np.log(N)/σ_π)**2, bins=200, label='$\\sigma_{GDP}$', density=True)\n",
    "x = np.linspace(0,175,500)\n",
    "plt.plot(x, levy_stable.pdf(x, alpha=ζ/2, beta=1, loc=a**(1/ζ)), color='r', alpha=0.5)\n",
    "plt.legend()\n",
    "plt.show()"
   ]
  },
  {
   "cell_type": "markdown",
   "metadata": {},
   "source": [
    "### Conclusion\n",
    "\n",
    "Under Zipf's law($\\zeta=1$), when the firm sizes follow Pareto distribution, the simulated herfindahl is around 11.89%.  While if the firm size is log-normal distributed, the herfindahl is less than 0.2% if the variance of the distribution is less than 1 (similar shapes). \n",
    "\n",
    "Thus, given the standard deviation of firm's growth rate ($\\sigma=12\\%$), the simulated standard deciation of GDP growth rate are around 1.4% for Pareto distributed firm size and less than 0.024% for log-normal distribution. Since the empirically measured macroeconomic fluctuation is around 1%, the log-normal distribution is not reasonable under this model.\n",
    "\n",
    "This result also follows Proposition 1 which states that \n",
    "\n",
    "$$\\sigma_{GDP} \\sim \\frac{(E[S^2])^{0.5}}{E[S]} \\frac{\\sigma}{\\sqrt{N}}$$\n",
    "\n",
    "where $\\frac{\\sigma}{\\sqrt{N}} = 0.012\\%$ under the same assumption.\n",
    "\n",
    "Therefore, Pareto distribution makes more sense for firm sizes comparing log-normal distribution. \n"
   ]
  },
  {
   "cell_type": "markdown",
   "metadata": {},
   "source": []
  }
 ],
 "metadata": {
  "kernelspec": {
   "display_name": "Python 3",
   "language": "python",
   "name": "python3"
  },
  "language_info": {
   "codemirror_mode": {
    "name": "ipython",
    "version": 3
   },
   "file_extension": ".py",
   "mimetype": "text/x-python",
   "name": "python",
   "nbconvert_exporter": "python",
   "pygments_lexer": "ipython3",
   "version": "3.7.3"
  }
 },
 "nbformat": 4,
 "nbformat_minor": 2
}
