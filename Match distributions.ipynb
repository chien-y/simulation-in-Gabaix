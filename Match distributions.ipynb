{
 "cells": [
  {
   "cell_type": "code",
   "execution_count": 3,
   "metadata": {},
   "outputs": [],
   "source": [
    "import numpy as np\n",
    "from scipy.stats import levy_stable\n",
    "from scipy.stats import pareto\n",
    "from scipy.stats import lognorm\n",
    "from numba import njit, prange\n",
    "import matplotlib.pyplot as plt\n",
    "%matplotlib inline"
   ]
  },
  {
   "cell_type": "code",
   "execution_count": 101,
   "metadata": {},
   "outputs": [],
   "source": [
    "class herfindahl():\n",
    "    '''\n",
    "    Simulate herfindahl on Pareto and log-normal distributions\n",
    "    \n",
    "    ζ: tail index\n",
    "    xm: minumum for Pareto distribution\n",
    "    nSim: number of times of simulation\n",
    "    N: number of firms\n",
    "    μ, σ are the shape parameters for log-normal\n",
    "    '''\n",
    "    \n",
    "    def __init__(self, ζ=1, xm=1, ):\n",
    "        self.ζ = ζ\n",
    "        self.xm = xm\n",
    "        self.h = None\n",
    "        \n",
    "#     @property\n",
    "#     def ζ(self):\n",
    "#         return self.__ζ\n",
    "    \n",
    "#     @ζ.setter\n",
    "#     def ζ(self, ζ):\n",
    "#         self.__ζ = ζ\n",
    "    \n",
    "    def solve(self, lower=0.2, upper=10, plot=False, title=None):\n",
    "        '''Solve μ and σ such that the lognormal matches the Pareto distribution'''\n",
    "        ζ = self.ζ\n",
    "        if ζ == 1:\n",
    "            ζ += np.finfo(float).eps\n",
    "        xm = self.xm\n",
    "        μ = np.log(xm) + np.log(2) / ζ\n",
    "        σ = np.sqrt(2 * (np.log(ζ * xm / (ζ - 1)) - μ))\n",
    "        \n",
    "        if plot:\n",
    "            f = lambda x: pareto.pdf(x, b=self.ζ, loc=0, scale=self.xm)\n",
    "            g = lambda x: lognorm.pdf(x, s=σ, scale=np.exp(μ))\n",
    "            \n",
    "            xd = np.linspace(1, upper, 100000)\n",
    "            xd2 = np.linspace(lower, upper, 100000)\n",
    "            plt.plot(xd, f(xd), label='Pareto')\n",
    "            plt.plot(xd2, g(xd2), label='lognormal')\n",
    "            plt.xlabel('x')\n",
    "            plt.ylabel('probability')\n",
    "            if title:\n",
    "                plt.title(title)\n",
    "            plt.legend()\n",
    "            plt.show()\n",
    "            print('μ=%1.5f, σ=%1.5f'%(μ, σ))\n",
    "            \n",
    "        return μ, σ\n",
    "    \n",
    "    def median_h(self, ζ=None, μ=None, σ=1, method='pareto', nSim=1000, N=1000000):\n",
    "        \n",
    "        if method != 'pareto' and method != 'lognormal':\n",
    "            raise TypeError ('The distribution must be either Pareto or lognormal.')\n",
    "            \n",
    "        h = np.zeros(nSim)\n",
    "        \n",
    "        if method == 'pareto':\n",
    "            \n",
    "            if ζ == None:\n",
    "                ζ = self.ζ\n",
    "            for i in range(nSim):\n",
    "                size = pareto.rvs(b=self.ζ, loc=0, scale=self.xm, size=N)\n",
    "                h[i] = np.sqrt(np.sum(np.square(size / np.sum(size))))\n",
    "        \n",
    "        elif method == 'lognormal':\n",
    "            \n",
    "            if μ == None:\n",
    "                if ζ:\n",
    "                    self.ζ = ζ\n",
    "                μ, σ = self.solve()\n",
    "            \n",
    "            for i in range(nSim):    \n",
    "                size = lognorm.rvs(s=σ, scale=np.exp(μ), size=N)        \n",
    "                h[i] = np.sqrt(np.sum(np.square(size/ np.sum(size))))\n",
    "        \n",
    "        self.h = np.median(h)\n",
    "        return self.h    \n",
    "    \n",
    "    def s_GDP(self, h=None, s_π=0.12, method='pareto'):\n",
    "        if h == None and self.h == None:\n",
    "            h = self.median_h(method=method)\n",
    "        elif h == None and self.h != None:\n",
    "            h = self.h\n",
    "        return h * s_π"
   ]
  },
  {
   "cell_type": "markdown",
   "metadata": {},
   "source": [
    "\n",
    "To begin with, simulate the herfindhl for Pareto distribution. The formulas are from Gabaix (2011).\n",
    "\n",
    "$$h = \\big[\\sum_{i=1}^{N} (\\frac{S_{it}}{Y_t})^2\\big]^{0.5} $$\n",
    "$$Y_t = \\sum_{i=1}^{N} S_{it} $$\n",
    "\n",
    "Except for $\\zeta=1$, also assume that $\\zeta$ is 1.059 following Axtell(2001)."
   ]
  },
  {
   "cell_type": "code",
   "execution_count": 68,
   "metadata": {},
   "outputs": [
    {
     "name": "stdout",
     "output_type": "stream",
     "text": [
      "If ζ is 1.000,  then h is 11.60% and the corresponding σ_GDP is 1.39%.\n",
      "If ζ is 1.059,  then h is 8.42% and the corresponding σ_GDP is 1.01%.\n",
      "If ζ is 1.500,  then h is 0.75% and the corresponding σ_GDP is 0.09%.\n"
     ]
    }
   ],
   "source": [
    "H = herfindahl()\n",
    "\n",
    "for zeta in [1, 1.059, 1.5]:\n",
    "    H.ζ = zeta\n",
    "    print('If ζ is %1.3f' % zeta, end=',  ')\n",
    "    print('then h is %1.2f%%' % (H.median_h()*100), end='')\n",
    "    print(' and the corresponding σ_GDP is %1.2f%%.' % (H.s_GDP()*100))"
   ]
  },
  {
   "cell_type": "markdown",
   "metadata": {},
   "source": [
    "Then, if $\\zeta$ is one, the herfindahl h is $11.6\\%$. This is close to the simulation result, $12\\%$ in Gabaix (2011).\n",
    "\n",
    "While if $\\zeta$ is $1.059\\%$, the herfindahl is $8.42\\%$ and the standard deviation of growth rate is $1.01\\%$. \n",
    "\n",
    "Gabaix also indicates that the empirically measured aggregate standard deviation of growth rate is around $1\\%$.\n",
    "\n",
    "Generally, the result is compatible with Gabaix (2011)."
   ]
  },
  {
   "cell_type": "markdown",
   "metadata": {},
   "source": [
    "#### Match the mean and median provided that the log-normal distribution is cut off under some $ \\bar{x}$.\n",
    "Given the Pareto distribution with tail index $\\zeta > 1$, the density function is\n",
    "\\begin{equation}\n",
    "    f_P(x)=\n",
    "    \\begin{cases}\n",
    "      \\frac{\\zeta {\\bar{x}}^{\\zeta}}{x^{\\zeta+1}}, & \\text{if}\\ x\\geq \\bar{x} \\\\\n",
    "      0, & \\text{otherwise}\n",
    "    \\end{cases}\n",
    "  \\end{equation}\n",
    "Then, the corresponding mean and median are $\\frac{\\zeta \\bar{x}}{\\zeta-1}$ and $\\bar{x} 2^{1/\\zeta}$, respectively. The mean can be obtained by $\\mathbb{E}(x)= \\int x f_P(x) dx$ and the median is the root for $\\frac{1}{2}=F_P(x)$ where $F_P(x)= 1-({\\frac{x}{\\bar{x}}})^{-\\zeta}$ is the cumulative density function for $x \\geq \\bar{x}$.\n",
    "\n",
    "If the log-normal distribution is $\\ln(x) \\sim \\mathcal{N}(\\mu, \\,\\sigma)$, then we can use the same approaches to find that its mean and median. The distribution for log-normal is\n",
    "$$g(x) = \\frac{1}{\\sigma x \\sqrt{2\\pi}} \\exp\\{ {-\\frac{(\\ln{x-\\mu})^2}{2\\sigma^2}} \\}.$$\n",
    "\n",
    "Thus, from $\\mathbb{E}(x)=\\int g(x)dx$, the mean is $\\exp(\\mu + \\frac{\\sigma^2}{2})$. In addition, the CDF is $G(x) = \\Phi(\\frac{\\ln(x)-\\mu}{\\sigma})$ where $\\Phi(.)$ is the CDF for standard normrl. Then, using $\\frac{1}{2} = G(x)$, we know that $\\frac{\\ln(x)-\\mu}{\\sigma}=0$ and so the median is $\\exp(\\mu)$.\n",
    "\n",
    "Now, we can try to match the log-normal with Pareto distribution under Zipf's law. Since the first moment is infinite when $\\zeta=1$ for Pareto distribution, let $\\zeta$ be very close to one but not one. Following the assumption for simulation in (Gabaix, 2011), assume $\\bar{x}=1$. Then, fixing the mean and median of Pareto distribution (or fixing $\\zeta$ and $\\bar{x}$), if the mean and median for log-normal distribution are equal to those of Pareto distribution, we have\n",
    "\n",
    "\\begin{align*}\\label{eq:1}\n",
    "\\text{mean} \\quad & \\frac{\\zeta \\bar{x}}{\\zeta-1} = \\exp(\\mu + \\frac{\\sigma^2}{2}) \\\\\n",
    "\\text{median} \\quad & \\bar{x} 2^{1/\\zeta} = \\exp(\\mu) \\\\ \n",
    "\\end{align*}\n",
    "\n",
    "Solve the equation of median given $\\zeta$ and $\\bar{x}=1$, we have $\\mu = \\ln(2^{1/\\zeta})$. Plug this into the mean equation, we can get $\\sigma = (2 \\ln(\\frac{\\zeta}{\\zeta-1}) - \\frac{2}{\\zeta}\\ln2)^{1/2}$."
   ]
  },
  {
   "cell_type": "markdown",
   "metadata": {},
   "source": [
    "##### Use the formula to sove $\\mu$ and $\\sigma$ numerically and plot the distribution."
   ]
  },
  {
   "cell_type": "code",
   "execution_count": 105,
   "metadata": {
    "scrolled": false
   },
   "outputs": [
    {
     "data": {
      "image/png": "[encoded data removed]",
      "text/plain": [
       "<Figure size 432x288 with 1 Axes>"
      ]
     },
     "metadata": {
      "needs_background": "light"
     },
     "output_type": "display_data"
    },
    {
     "name": "stdout",
     "output_type": "stream",
     "text": [
      "μ=0.69315, σ=8.40839\n"
     ]
    },
    {
     "data": {
      "image/png": "[encoded data removed]",
      "text/plain": [
       "<Figure size 432x288 with 1 Axes>"
      ]
     },
     "metadata": {
      "needs_background": "light"
     },
     "output_type": "display_data"
    },
    {
     "name": "stdout",
     "output_type": "stream",
     "text": [
      "μ=0.65453, σ=2.11330\n"
     ]
    },
    {
     "data": {
      "image/png": "[encoded data removed]",
      "text/plain": [
       "<Figure size 432x288 with 1 Axes>"
      ]
     },
     "metadata": {
      "needs_background": "light"
     },
     "output_type": "display_data"
    },
    {
     "name": "stdout",
     "output_type": "stream",
     "text": [
      "μ=0.46210, σ=1.12829\n"
     ]
    }
   ],
   "source": [
    "H = herfindahl()\n",
    "for zeta in [1+np.finfo(float).eps, 1.059, 1.5]:\n",
    "    H.ζ = zeta\n",
    "    H.solve(lower=0, plot=True, title='$\\zeta$ is %1.3f'%zeta)"
   ]
  },
  {
   "cell_type": "markdown",
   "metadata": {},
   "source": [
    "The matched log-normal has the parameters $\\mu=0.65453$ and $\\sigma=2.11330$. Simulate the herfindahl for log-normal with these parameters."
   ]
  },
  {
   "cell_type": "code",
   "execution_count": 106,
   "metadata": {},
   "outputs": [
    {
     "name": "stdout",
     "output_type": "stream",
     "text": [
      "If ζ is 1.059,  then h is 0.85% for matched log-normal and the corresponding σ_GDP is 0.10%.\n",
      "If ζ is 1.500,  then h is 0.19% for matched log-normal and the corresponding σ_GDP is 0.02%.\n"
     ]
    }
   ],
   "source": [
    "for zeta in [1.059, 1.5]:\n",
    "    H.median_h(ζ=zeta, method='lognormal')\n",
    "    print('If ζ is %1.3f' %zeta, end=',  ')\n",
    "    print('then h is %1.2f%% for matched log-normal' %(H.h*100), end='')\n",
    "    print(' and the corresponding σ_GDP is %1.2f%%.' %(H.s_GDP()*100))"
   ]
  },
  {
   "cell_type": "markdown",
   "metadata": {},
   "source": [
    " ##### Conclusion\n",
    " For both $\\zeta=1.059$ and $\\zeta=1.5$, the volativity for GDP growth are too small and not in the same magnitude.\n",
    " \n",
    " $(\\mu, \\sigma)=(0.6545, 2.1133)$ are the shape parameters for matched log-normal under $\\zeta$=1.059. In this case, the herfindahl is $0.85\\%$ which is much smaller than $8.42\\%$ of Pareto distribution. \n",
    " \n",
    " When firm's growth rate is $12\\%$, the deviation of growth rate $ \\sigma_{GDP} = h\\sigma $ is around $0.10\\%$ for log-normal which is also higher than $1.01\\%$ of Pareto when $\\zeta=1.059$. Since the empirically measured macroeconomic fluctuation is around $1\\%$, the log-normal distribution is not reasonable under this matching."
   ]
  },
  {
   "cell_type": "code",
   "execution_count": null,
   "metadata": {},
   "outputs": [],
   "source": []
  },
  {
   "cell_type": "code",
   "execution_count": null,
   "metadata": {},
   "outputs": [],
   "source": []
  },
  {
   "cell_type": "markdown",
   "metadata": {},
   "source": [
    "Some notes on the case that $\\zeta$ is very close to one.\n",
    "\n",
    "If $\\zeta$ is one plus the smallest number in Python, then the mean is "
   ]
  },
  {
   "cell_type": "code",
   "execution_count": 88,
   "metadata": {
    "scrolled": false
   },
   "outputs": [
    {
     "data": {
      "text/plain": [
       "4503599627370496.0"
      ]
     },
     "execution_count": 88,
     "metadata": {},
     "output_type": "execute_result"
    }
   ],
   "source": [
    "1/np.finfo(float).eps"
   ]
  },
  {
   "cell_type": "markdown",
   "metadata": {},
   "source": [
    "Use the parameters from matched log-normal to find the mean."
   ]
  },
  {
   "cell_type": "code",
   "execution_count": 91,
   "metadata": {},
   "outputs": [
    {
     "data": {
      "text/plain": [
       "4503634786807620.0"
      ]
     },
     "execution_count": 91,
     "metadata": {},
     "output_type": "execute_result"
    }
   ],
   "source": [
    "μ, σ = 0.69315, 8.40839\n",
    "np.exp(μ) * np.exp(σ**2 / 2)"
   ]
  },
  {
   "cell_type": "markdown",
   "metadata": {},
   "source": [
    "The corresponging mean and variance are"
   ]
  },
  {
   "cell_type": "code",
   "execution_count": 92,
   "metadata": {},
   "outputs": [
    {
     "name": "stdout",
     "output_type": "stream",
     "text": [
      "4503634786807632.0\n",
      "1.0284666652696082e+62\n"
     ]
    }
   ],
   "source": [
    "print(np.exp(μ+σ**2/2))\n",
    "print((np.exp(σ**2) - 1)*np.exp(2*μ + σ**2))"
   ]
  },
  {
   "cell_type": "markdown",
   "metadata": {},
   "source": [
    "The variance is much larger than the mean, so the coefficient in equation (6) might be very large."
   ]
  }
 ],
 "metadata": {
  "kernelspec": {
   "display_name": "Python 3",
   "language": "python",
   "name": "python3"
  },
  "language_info": {
   "codemirror_mode": {
    "name": "ipython",
    "version": 3
   },
   "file_extension": ".py",
   "mimetype": "text/x-python",
   "name": "python",
   "nbconvert_exporter": "python",
   "pygments_lexer": "ipython3",
   "version": "3.7.3"
  }
 },
 "nbformat": 4,
 "nbformat_minor": 2
}
