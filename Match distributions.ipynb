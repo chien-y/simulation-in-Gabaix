{
 "cells": [
  {
   "cell_type": "code",
   "execution_count": 2,
   "metadata": {},
   "outputs": [],
   "source": [
    "import numpy as np\n",
    "from scipy.stats import levy_stable\n",
    "from scipy.stats import levy\n",
    "from scipy.stats import pareto\n",
    "from scipy.stats import lognorm\n",
    "from scipy.special import erfc\n",
    "from numba import jit\n",
    "from numba import njit, prange\n",
    "import matplotlib.pyplot as plt\n",
    "%matplotlib inline"
   ]
  },
  {
   "cell_type": "markdown",
   "metadata": {},
   "source": [
    "Simalate the herfindhl for Pareto distribution. \n",
    "\n",
    "$$h = \\big[\\sum_{i=1}^{N} (\\frac{S_{it}}{Y_t})^2\\big]^{0.5} $$\n",
    "$$Y_t = \\sum_{i=1}^{N} S_{it} $$\n",
    "\n",
    "Except for $\\zeta=1$, also assume that $\\zeta$ is 1.059 following Axtell(2001)."
   ]
  },
  {
   "cell_type": "code",
   "execution_count": 4,
   "metadata": {},
   "outputs": [],
   "source": [
    "σ_π = 0.12\n",
    "a = 1\n",
    "ζ = 1  # Zipf's law\n",
    "x0 = a**(1/ζ)\n",
    "N = 1000000\n",
    "sim = 1000"
   ]
  },
  {
   "cell_type": "code",
   "execution_count": 5,
   "metadata": {},
   "outputs": [
    {
     "name": "stdout",
     "output_type": "stream",
     "text": [
      "0.12012269209028266\n"
     ]
    }
   ],
   "source": [
    "@njit(parallel=True)\n",
    "def herfindahl(nSim, ζ, N=1000000):\n",
    "    \n",
    "    h = np.zeros(nSim)\n",
    "    for i in range(nSim):    \n",
    "        size = (np.random.pareto(ζ, N) + 1) * x0         \n",
    "        h[i] = np.sqrt(np.sum(np.square(size / np.sum(size))))\n",
    "\n",
    "    return h    \n",
    "\n",
    "h = herfindahl(nSim=1000, ζ=1)\n",
    "print(np.median(h))"
   ]
  },
  {
   "cell_type": "markdown",
   "metadata": {},
   "source": [
    "#### Match the mean and median assume that log-normal distribution is zero when $x < \\bar{x}$.\n",
    "\n",
    "Given $\\zeta>1$ and the minimum $\\bar{x}$, the mean and median are $\\frac{\\zeta \\bar{x}}{\\zeta-1}$ and $\\bar{x} 2^{1/\\zeta}$, respectively.\n",
    "\n",
    "If the log-normal distribution is $\\ln(x) \\sim \\mathcal{N}(\\mu, \\,\\sigma)$, its mean and median are $\\exp(\\mu + \\frac{\\sigma^2}{2})$ and $\\exp(\\mu)$, repectively.\n",
    "\n",
    "Let $F_X(x)$ be the cumulative distribution function for log-normal. After setting the minumum value $\\bar{x}$ and rescale the probability function, the distribution is \n",
    "\n",
    "$$\\frac{F_X(x) - F_X(\\bar{x})}{1-F_X(\\bar{x})}, x\\ge 0. $$\n",
    "\n",
    "Thus, the density is $g(x) = \\frac{f_X(x)}{1-F_X(\\bar{x})}$, where $f_X(x)$ is the density for log-normal:\n",
    "\n",
    "$$\\frac{1}{\\sigma x \\sqrt{2\\pi}} \\exp\\{ {-\\frac{(\\ln{x-\\mu})^2}{2\\sigma^2}} \\}$$\n",
    "\n",
    "Since $g(x)$ is a scaled $f(x)$, the mean for density g is $\\frac{1}{1-F_X(\\bar{x})}\\exp(\\mu + \\frac{\\sigma^2}{2})$. For the mdeian, using the CDF,\n",
    "\n",
    "$$\\frac{1}{2} =  \\frac{F_X(x) - F_X(\\bar{x})}{1-F_X(\\bar{x})}$$\n",
    "$$median\\,=F_X^{-1}\\big[ \\frac{1}{2}(1-F_X(\\bar{x})) + F_X(\\bar{x}) \\big] $$\n",
    "\n",
    "Let $\\zeta$ be very close to one but not one(the mean is $\\infty$ when $\\zeta$ is one). Again, following the assumption for simulation, let $\\bar{x}=1$. Then, \n",
    "\n",
    "$$\\frac{1}{1-F_X(\\bar{x})}\\exp(\\mu + \\frac{\\sigma^2}{2})= \\frac{\\zeta}{\\zeta-1} $$\n",
    "$$ 2^{1/\\zeta}= F_X^{-1}\\big[ \\frac{1}{2}(1+F_X(\\bar{x})) \\big] $$\n",
    "$$ F_X^{-1}[2 F_X(2^{1/\\zeta}) - 1] = \\bar{x}$$"
   ]
  },
  {
   "cell_type": "code",
   "execution_count": 50,
   "metadata": {},
   "outputs": [
    {
     "data": {
      "image/png": "[encoded data removed]",
      "text/plain": [
       "<Figure size 864x432 with 4 Axes>"
      ]
     },
     "metadata": {
      "needs_background": "light"
     },
     "output_type": "display_data"
    }
   ],
   "source": [
    "# Solve the equation numerically\n",
    "eps = np.finfo(float).eps\n",
    "ζ = 1 + eps\n",
    "\n",
    "# def obj_median(μ, σ):\n",
    "#     return - erfc((np.log(2)/ζ - μ)/(np.sqrt(2)*σ))  + erfc(-μ / (np.sqrt(2)*σ)) -1\n",
    "def obj_median(μ, σ):\n",
    "    tmp = 2 * lognorm.cdf(2**(1/ζ) ,s=σ,scale=np.exp(μ)) - 1 \n",
    "    return lognorm.ppf(tmp ,s=σ,scale=np.exp(μ)) - 1\n",
    "\n",
    "# def obj_mean(μ, σ):\n",
    "#     return 2 * np.exp(μ + σ**2 / 2) / erfc(-μ / (np.sqrt(2)*σ)) - ζ / (ζ - 1)\n",
    "\n",
    "def obj_mean(μ, σ):\n",
    "    return np.exp(μ + 0.5 * σ**2) / (1 - lognorm.cdf(1,s=σ,scale=np.exp(μ))) - ζ / (ζ - 1)\n",
    "\n",
    "x = np.linspace(eps, 10, 1000)\n",
    "y = np.linspace(eps, 10, 1000)\n",
    "xx, yy = np.meshgrid(x, y)\n",
    "\n",
    "fig, (ax1, ax2) = plt.subplots(1, 2, figsize=(12,6))\n",
    "z1 = obj_median(xx, yy)\n",
    "z2 = obj_mean(xx, yy)\n",
    "contour1 = ax1.contour(xx, yy, z1, cmap = 'jet')\n",
    "contour2 = ax2.contour(xx, yy, z2, cmap = 'jet')\n",
    "cbar1 = fig.colorbar(contour1, orientation=\"horizontal\", ax=ax1)\n",
    "cbar1 = fig.colorbar(contour2, orientation=\"horizontal\", ax=ax2)\n",
    "\n",
    "ax1.set_xlim(0, 2)\n",
    "ax1.set_ylim(0, 3)\n",
    "plt.show()"
   ]
  },
  {
   "cell_type": "markdown",
   "metadata": {},
   "source": [
    "#### There is no pair of $(\\mu, \\sigma)$ which can pin down the roots for the mean and median equations at the same time. "
   ]
  },
  {
   "cell_type": "markdown",
   "metadata": {},
   "source": [
    "#### Match the mean and median, in the case that there doesn't exit $\\bar{x}$ for log-normal.\n",
    "For mean, \n",
    "$$ \\frac{\\zeta \\bar{x}}{\\zeta-1} = \\exp(\\mu + \\frac{\\sigma^2}{2})$$ \n",
    "For median,  \n",
    "\n",
    "$$\\bar{x} 2^{1/\\zeta} = \\exp(\\mu)$$"
   ]
  },
  {
   "cell_type": "code",
   "execution_count": 55,
   "metadata": {},
   "outputs": [
    {
     "data": {
      "image/png": "[encoded data removed]",
      "text/plain": [
       "<Figure size 432x288 with 1 Axes>"
      ]
     },
     "metadata": {
      "needs_background": "light"
     },
     "output_type": "display_data"
    },
    {
     "name": "stdout",
     "output_type": "stream",
     "text": [
      "μ=0.69315, σ=8.40839\n"
     ]
    }
   ],
   "source": [
    "# Pareto pdf\n",
    "ζ = 1 + np.finfo(float).eps  # under Zipf's law and the mean is finite\n",
    "a = 1\n",
    "\n",
    "f = lambda x: a*ζ / x**(ζ+1)\n",
    "# lognormal pdf\n",
    "σ = np.sqrt(2 * (np.log(ζ/(ζ-1)) - 1 / ζ * np.log(2)))\n",
    "μ = np.log(2) / ζ\n",
    "g = lambda x: 1/(x*σ*np.sqrt(2*np.pi)) * np.exp(-(np.log(x)-μ)**2 / (2*σ**2))\n",
    "\n",
    "xd = np.linspace(1,30, 100000)\n",
    "xd2 = np.linspace(0.2, 30, 100000)\n",
    "plt.plot(xd2, g(xd2), label='lognormal')\n",
    "plt.plot(xd, f(xd), label='Pareto')\n",
    "plt.legend()\n",
    "plt.show()\n",
    "print('μ=%1.5f, σ=%1.5f'%(μ, σ))"
   ]
  },
  {
   "cell_type": "code",
   "execution_count": 52,
   "metadata": {},
   "outputs": [
    {
     "name": "stdout",
     "output_type": "stream",
     "text": [
      "0.5942463163571974\n"
     ]
    }
   ],
   "source": [
    "@njit(parallel=True)\n",
    "def h_lognormal(nSim, mu, sigma, N=1000000):\n",
    "    \n",
    "    h = np.zeros(nSim)\n",
    "    for i in range(nSim):    \n",
    "        size = np.random.lognormal(mu, sigma, size=N)        \n",
    "        mask=size>1\n",
    "        h[i] = np.sqrt(np.sum(np.square(size[mask] / np.sum(size[mask]))))\n",
    "    return h    \n",
    "\n",
    "\n",
    "h = h_lognormal(nSim=1000, mu=0.69315, sigma=8.40839)\n",
    "print(np.median(h))"
   ]
  },
  {
   "cell_type": "markdown",
   "metadata": {},
   "source": [
    " $(\\mu, \\sigma)=(0.69315, 8.40839)$ is shape for matched log-normal under Zipf's law($\\zeta$ is close to one but not one). In this case, the herfindahl is 59.42% which is much higher than 12% of Pareto distribution. \n",
    " \n",
    " When firm's growth rate is 12%, the growth rate deviation $ \\sigma_{GDP} = h\\sigma $ is around 7.2% for log-normal which is also higher than 1.4% of Pareto."
   ]
  },
  {
   "cell_type": "code",
   "execution_count": null,
   "metadata": {},
   "outputs": [],
   "source": []
  }
 ],
 "metadata": {
  "kernelspec": {
   "display_name": "Python 3",
   "language": "python",
   "name": "python3"
  },
  "language_info": {
   "codemirror_mode": {
    "name": "ipython",
    "version": 3
   },
   "file_extension": ".py",
   "mimetype": "text/x-python",
   "name": "python",
   "nbconvert_exporter": "python",
   "pygments_lexer": "ipython3",
   "version": "3.7.3"
  }
 },
 "nbformat": 4,
 "nbformat_minor": 2
}
