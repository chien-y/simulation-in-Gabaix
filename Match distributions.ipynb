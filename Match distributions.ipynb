{
 "cells": [
  {
   "cell_type": "code",
   "execution_count": 2,
   "metadata": {},
   "outputs": [],
   "source": [
    "import numpy as np\n",
    "from scipy.stats import levy_stable\n",
    "from scipy.stats import levy\n",
    "from scipy.stats import pareto\n",
    "from scipy.stats import lognorm\n",
    "from scipy.special import erfc\n",
    "from numba import jit\n",
    "from numba import njit, prange\n",
    "import matplotlib.pyplot as plt\n",
    "%matplotlib inline"
   ]
  },
  {
   "cell_type": "markdown",
   "metadata": {},
   "source": [
    "Simalate the herfindhl for Pareto distribution. \n",
    "\n",
    "$$h = \\big[\\sum_{i=1}^{N} (\\frac{S_{it}}{Y_t})^2\\big]^{0.5} $$\n",
    "$$Y_t = \\sum_{i=1}^{N} S_{it} $$\n",
    "\n",
    "Except for $\\zeta=1$, also assume that $\\zeta$ is 1.059 following Axtell(2001)."
   ]
  },
  {
   "cell_type": "code",
   "execution_count": 4,
   "metadata": {},
   "outputs": [],
   "source": [
    "σ_π = 0.12\n",
    "a = 1\n",
    "ζ = 1  # Zipf's law\n",
    "x0 = a**(1/ζ)\n",
    "N = 1000000\n",
    "sim = 1000"
   ]
  },
  {
   "cell_type": "code",
   "execution_count": 5,
   "metadata": {},
   "outputs": [
    {
     "name": "stdout",
     "output_type": "stream",
     "text": [
      "0.12012269209028266\n"
     ]
    }
   ],
   "source": [
    "@njit(parallel=True)\n",
    "def herfindahl(nSim, ζ, N=1000000):\n",
    "    \n",
    "    h = np.zeros(nSim)\n",
    "    for i in range(nSim):    \n",
    "        size = (np.random.pareto(ζ, N) + 1) * x0         \n",
    "        h[i] = np.sqrt(np.sum(np.square(size / np.sum(size))))\n",
    "\n",
    "    return h    \n",
    "\n",
    "h = herfindahl(nSim=1000, ζ=1)\n",
    "print(np.median(h))"
   ]
  },
  {
   "cell_type": "markdown",
   "metadata": {},
   "source": [
    "#### Match the mean and median provided that the log-normal distribution is cut off under some $ \\bar{x}$.\n",
    "Given the Pareto distribution with tail index $\\zeta > 1$, the density function is\n",
    "\\begin{equation}\n",
    "    f_P(x)=\n",
    "    \\begin{cases}\n",
    "      \\frac{\\zeta {\\bar{x}}^{\\zeta}}{x^{\\zeta+1}}, & \\text{if}\\ x\\geq \\bar{x} \\\\\n",
    "      0, & \\text{otherwise}\n",
    "    \\end{cases}\n",
    "  \\end{equation}\n",
    "Then, the corresponding mean and median are $\\frac{\\zeta \\bar{x}}{\\zeta-1}$ and $\\bar{x} 2^{1/\\zeta}$, respectively. The mean can be obtained by $\\mathbb{E}(x)= \\int x f_P(x) dx$ and the median is the root for $\\frac{1}{2}=F_P(x)$ where $F_P(x)= 1-({\\frac{x}{\\bar{x}}})^{-\\zeta}$ is the cumulative density function for $x \\geq \\bar{x}$.\n",
    "\n",
    "If the log-normal distribution is $\\ln(x) \\sim \\mathcal{N}(\\mu, \\,\\sigma)$, then we can use the same approaches to find that its mean and median which are $\\exp(\\mu + \\frac{\\sigma^2}{2})$ and $\\exp(\\mu)$, respectively. In addition, the distribution for log-normal is\n",
    "$$g(x) = \\frac{1}{\\sigma x \\sqrt{2\\pi}} \\exp\\{ {-\\frac{(\\ln{x-\\mu})^2}{2\\sigma^2}} \\}$$\n",
    "Also, let $G(x)$ be the cumulative distribution function of log-normal which is also equal to the CDF of the standard normal $\\Phi(\\frac{\\ln{x}-\\mu}{\\sigma})$.\n",
    "$$G(x) = \\Phi(\\frac{\\ln{x}-\\mu}{\\sigma}) $$ \n",
    "Next, I rescale the distribution such that it is zero for $x<\\bar{x}$ which has the same cutoff as Pareto distribution.\n",
    "After setting the minimum value $\\bar{x}$ and re-scale the probability function such that $P(x\\geq \\bar{x})=1$, the distribution is \n",
    "\n",
    "\\begin{equation}\n",
    "    \\hat{g}(x)=\n",
    "    \\begin{cases}\n",
    "       \\frac{g(x)}{1-G(\\bar{x})}, & \\text{if}\\ x\\geq \\bar{x} \\\\\n",
    "      0, & \\text{otherwise}\n",
    "    \\end{cases}\n",
    "  \\end{equation}\n",
    "\n",
    "  \n",
    "Since $\\hat{g}(x)$ is a scaled $g(x)$, the mean for density $\\hat{g}$ is $\\frac{1}{1-G(\\bar{x})}\\exp(\\mu + \\frac{\\sigma^2}{2})$ which is a product of scaling constant and the mean of log-normal. For the median, using its CDF $\\hat{G}(x) = \\frac{G(x) - G(\\bar{x})}{1-G(\\bar{x})}$, the median should pin down the belowing equation.  \n",
    "$$\\frac{1}{2} = \\frac{G(x) - G(\\bar{x})}{1-G(\\bar{x})}$$\n",
    "\n",
    "Thus, the median is  \n",
    "$$median\\,=G^{-1}\\big[ \\frac{1}{2}(1-G(\\bar{x})) + G(\\bar{x}) \\big] $$\n",
    "\n",
    "Now, we can try to match the scaled log-normal with Pareto distribution under Zipf's law. Since the first moment is infinite when $\\zeta=1$ for Pareto distribution, let $\\zeta$ be very close to one but not one. Following the assumption for simulation in (Gabaix, 2011), assume $\\bar{x}=1$. Then, fixing the mean and median of Pareto distribution (or fixing $\\zeta$ and $\\bar{x}$), if the mean and median for scaled log-normal distribution are equal to those of Pareto distribution, we have\n",
    "\n",
    "\\begin{align*}\\label{eq:1}\n",
    "    \\text{(mean)}\\quad & \\frac{1}{1-G(\\bar{x})}\\exp(\\mu + \\frac{\\sigma^2}{2})= \\frac{\\zeta}{\\zeta-1}\\\\\n",
    "    (\\text{median})\\quad & G^{-1}\\big[ \\frac{1}{2}(1+G(\\bar{x})) \\big] =  2^{1/\\zeta} \\\\   \n",
    "\\end{align*}\n",
    "\n",
    "The median equation can also be written as \n",
    "$$ G^{-1}[2 G(2^{1/\\zeta}) - 1] = \\bar{x}$$\n",
    "\n",
    "The CDF $G(x)$ is determined by the shape parameters $(\\mu, \\sigma)$.\n",
    "To match the distribution, we need to solve the above equations and find the corresponding pair of root $(\\mu, \\sigma)$ which decides the shape of log-normal. \n",
    "Since $G(.)$ is a function of $\\Phi(.)$, the median equation contains the inverse of $\\Phi(.)$ function which is complicated to solve analytically. Therefore, I try to solve them numerically and first plot the equations (RHS - LHS) with respect to parameters $(\\mu, \\sigma)$ to find the potential roots."
   ]
  },
  {
   "cell_type": "code",
   "execution_count": 5,
   "metadata": {},
   "outputs": [
    {
     "data": {
      "image/png": "[encoded data removed]",
      "text/plain": [
       "<Figure size 864x432 with 4 Axes>"
      ]
     },
     "metadata": {
      "needs_background": "light"
     },
     "output_type": "display_data"
    }
   ],
   "source": [
    "# Solve the equation numerically\n",
    "eps = np.finfo(float).eps\n",
    "ζ = 1 + eps\n",
    "\n",
    "# def obj_median(μ, σ):\n",
    "#     return - erfc((np.log(2)/ζ - μ)/(np.sqrt(2)*σ))  + erfc(-μ / (np.sqrt(2)*σ)) -1\n",
    "# def obj_mean(μ, σ):\n",
    "#     return 2 * np.exp(μ + σ**2 / 2) / erfc(-μ / (np.sqrt(2)*σ)) - ζ / (ζ - 1)\n",
    " \n",
    "def obj_median(μ, σ):\n",
    "    'median equation, x-bar=1, return LHS - RHS'\n",
    "    tmp = 2 * lognorm.cdf(2**(1/ζ) ,s=σ,scale=np.exp(μ)) - 1 \n",
    "    return lognorm.ppf(tmp ,s=σ,scale=np.exp(μ)) - 1\n",
    "\n",
    "# \n",
    "def obj_mean(μ, σ):\n",
    "    'mean equation, return LHS - RHS '\n",
    "    return np.exp(μ + 0.5 * σ**2) / (1 - lognorm.cdf(1,s=σ,scale=np.exp(μ))) - ζ / (ζ - 1)\n",
    "\n",
    "x = np.linspace(eps, 10, 1000)\n",
    "y = np.linspace(eps, 10, 1000)\n",
    "xx, yy = np.meshgrid(x, y)\n",
    "\n",
    "fig, (ax1, ax2) = plt.subplots(1, 2, figsize=(12,6))\n",
    "z1 = obj_median(xx, yy)\n",
    "z2 = obj_mean(xx, yy)\n",
    "contour1 = ax1.contour(xx, yy, z1, cmap = 'jet')\n",
    "contour2 = ax2.contour(xx, yy, z2, cmap = 'jet')\n",
    "cbar1 = fig.colorbar(contour1, orientation=\"horizontal\", ax=ax1)\n",
    "cbar1 = fig.colorbar(contour2, orientation=\"horizontal\", ax=ax2)\n",
    "ax2.set_title('Equation for mean')\n",
    "ax1.set_title('Equation for median')\n",
    "ax1.set_xlabel('$\\mu$')\n",
    "ax1.set_ylabel('$\\sigma$')\n",
    "ax2.set_xlabel('$\\mu$')\n",
    "ax2.set_ylabel('$\\sigma$')\n",
    "ax1.set_xlim(0, 2)\n",
    "ax1.set_ylim(0, 3)\n",
    "plt.show()"
   ]
  },
  {
   "cell_type": "markdown",
   "metadata": {},
   "source": [
    "Looking at the graphs, the roots are on the line with value 0.0. Since there is no intersection between the lines of root on these tow graphs, there is no pair of $(\\mu, \\sigma)$ which can pin down the roots for the mean and median equations at the same time. "
   ]
  },
  {
   "cell_type": "markdown",
   "metadata": {},
   "source": [
    "#### Match the mean and median withour the cutoff for log-normal.\n",
    "Without scaling, the lognormal has the mean $\\exp(\\mu + \\frac{\\sigma^2}{2})$ and median $\\exp(\\mu)$ from the previous section. Then, if the mean is equal to the mean of Pareto distribution, we have  \n",
    "$$ \\frac{\\zeta \\bar{x}}{\\zeta-1} = \\exp(\\mu + \\frac{\\sigma^2}{2})$$ \n",
    "Similarly for median,  \n",
    "$$\\bar{x} 2^{1/\\zeta} = \\exp(\\mu)$$\n",
    "\n",
    "Given $\\zeta$ is close one and $\\bar{x}=1$, we can solve the equations for $\\mu$ and $\\sigma$.\n",
    "Therefore, $\\mu = \\ln(\\bar{x} 2^{1/\\zeta})$ where $\\bar{x}=1$ and  $\\sigma = (2 \\ln(\\frac{\\zeta}{\\zeta-1}) - \\frac{2}{\\zeta}\\ln2)^{1/2}$"
   ]
  },
  {
   "cell_type": "code",
   "execution_count": 55,
   "metadata": {},
   "outputs": [
    {
     "data": {
      "image/png": "[encoded data removed]",
      "text/plain": [
       "<Figure size 432x288 with 1 Axes>"
      ]
     },
     "metadata": {
      "needs_background": "light"
     },
     "output_type": "display_data"
    },
    {
     "name": "stdout",
     "output_type": "stream",
     "text": [
      "μ=0.69315, σ=8.40839\n"
     ]
    }
   ],
   "source": [
    "# Pareto pdf\n",
    "ζ = 1 + np.finfo(float).eps  # under Zipf's law and the mean is finite\n",
    "a = 1\n",
    "\n",
    "f = lambda x: a*ζ / x**(ζ+1)\n",
    "# lognormal pdf\n",
    "σ = np.sqrt(2 * (np.log(ζ/(ζ-1)) - 1 / ζ * np.log(2)))\n",
    "μ = np.log(2) / ζ\n",
    "g = lambda x: 1/(x*σ*np.sqrt(2*np.pi)) * np.exp(-(np.log(x)-μ)**2 / (2*σ**2))\n",
    "\n",
    "xd = np.linspace(1,30, 100000)\n",
    "xd2 = np.linspace(0.2, 30, 100000)\n",
    "plt.plot(xd2, g(xd2), label='lognormal')\n",
    "plt.plot(xd, f(xd), label='Pareto')\n",
    "plt.legend()\n",
    "plt.show()\n",
    "print('μ=%1.5f, σ=%1.5f'%(μ, σ))"
   ]
  },
  {
   "cell_type": "code",
   "execution_count": 52,
   "metadata": {},
   "outputs": [
    {
     "name": "stdout",
     "output_type": "stream",
     "text": [
      "0.5942463163571974\n"
     ]
    }
   ],
   "source": [
    "@njit(parallel=True)\n",
    "def h_lognormal(nSim, mu, sigma, N=1000000):\n",
    "    \n",
    "    h = np.zeros(nSim)\n",
    "    for i in range(nSim):    \n",
    "        size = np.random.lognormal(mu, sigma, size=N)        \n",
    "        mask=size>1\n",
    "        h[i] = np.sqrt(np.sum(np.square(size[mask] / np.sum(size[mask]))))\n",
    "    return h    \n",
    "\n",
    "\n",
    "h = h_lognormal(nSim=1000, mu=0.69315, sigma=8.40839)\n",
    "print(np.median(h))"
   ]
  },
  {
   "cell_type": "markdown",
   "metadata": {},
   "source": [
    " $(\\mu, \\sigma)=(0.69315, 8.40839)$ is shape for matched log-normal under Zipf's law($\\zeta$ is close to one but not one). In this case, the herfindahl is 59.42% which is much higher than 12% of Pareto distribution. \n",
    " \n",
    " When firm's growth rate is 12%, the deviation of growth rate $ \\sigma_{GDP} = h\\sigma $ is around 7.2% for log-normal which is also higher than 1.4% of Pareto."
   ]
  },
  {
   "cell_type": "code",
   "execution_count": null,
   "metadata": {},
   "outputs": [],
   "source": []
  }
 ],
 "metadata": {
  "kernelspec": {
   "display_name": "Python 3",
   "language": "python",
   "name": "python3"
  },
  "language_info": {
   "codemirror_mode": {
    "name": "ipython",
    "version": 3
   },
   "file_extension": ".py",
   "mimetype": "text/x-python",
   "name": "python",
   "nbconvert_exporter": "python",
   "pygments_lexer": "ipython3",
   "version": "3.7.3"
  }
 },
 "nbformat": 4,
 "nbformat_minor": 2
}
