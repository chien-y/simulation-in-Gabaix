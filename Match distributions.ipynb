{
 "cells": [
  {
   "cell_type": "code",
   "execution_count": 3,
   "metadata": {},
   "outputs": [],
   "source": [
    "import numpy as np\n",
    "from scipy.stats import levy_stable\n",
    "from scipy.stats import pareto\n",
    "from scipy.stats import lognorm\n",
    "from numba import njit, prange\n",
    "import matplotlib.pyplot as plt\n",
    "%matplotlib inline"
   ]
  },
  {
   "cell_type": "markdown",
   "metadata": {},
   "source": [
    "\n",
    "To begin with, simulate the herfindhl for Pareto distribution. The foumulas are from Gabaix (2011).\n",
    "\n",
    "$$h = \\big[\\sum_{i=1}^{N} (\\frac{S_{it}}{Y_t})^2\\big]^{0.5} $$\n",
    "$$Y_t = \\sum_{i=1}^{N} S_{it} $$\n",
    "\n",
    "Except for $\\zeta=1$, also assume that $\\zeta$ is 1.059 following Axtell(2001)."
   ]
  },
  {
   "cell_type": "code",
   "execution_count": 5,
   "metadata": {},
   "outputs": [],
   "source": [
    "σ_π = 0.12\n",
    "a = 1\n",
    "ζ = 1  # Zipf's law\n",
    "x0 = a**(1/ζ)\n",
    "N = 1000000\n",
    "sim = 1000\n",
    "eps = np.finfo(float).eps"
   ]
  },
  {
   "cell_type": "code",
   "execution_count": 6,
   "metadata": {},
   "outputs": [
    {
     "name": "stdout",
     "output_type": "stream",
     "text": [
      "0.12016512216161011\n",
      "0.11324409397707055\n",
      "0.07925165428441122\n"
     ]
    }
   ],
   "source": [
    "@njit(parallel=True)\n",
    "def herfindahl(nSim, ζ, N=1000000):\n",
    "    \n",
    "    h = np.zeros(nSim)\n",
    "    for i in range(nSim):    \n",
    "        size = (np.random.pareto(ζ, N) + 1) * x0         \n",
    "        h[i] = np.sqrt(np.sum(np.square(size / np.sum(size))))\n",
    "\n",
    "    return h    \n",
    "\n",
    "for ζ in [1, 1+eps, 1.059]:\n",
    "    h = herfindahl(nSim=1000, ζ=ζ)\n",
    "    print(np.median(h))"
   ]
  },
  {
   "cell_type": "markdown",
   "metadata": {},
   "source": [
    "Then, if $\\zeta$ is one, the herfindahl h is $12.0\\%$. While if $\\zeta$ is very closed to one but not one (one plus the smallest value in Python), the herfindahl is $11.3\\%$"
   ]
  },
  {
   "cell_type": "markdown",
   "metadata": {},
   "source": [
    "#### Match the mean and median provided that the log-normal distribution is cut off under some $ \\bar{x}$.\n",
    "Given the Pareto distribution with tail index $\\zeta > 1$, the density function is\n",
    "\\begin{equation}\n",
    "    f_P(x)=\n",
    "    \\begin{cases}\n",
    "      \\frac{\\zeta {\\bar{x}}^{\\zeta}}{x^{\\zeta+1}}, & \\text{if}\\ x\\geq \\bar{x} \\\\\n",
    "      0, & \\text{otherwise}\n",
    "    \\end{cases}\n",
    "  \\end{equation}\n",
    "Then, the corresponding mean and median are $\\frac{\\zeta \\bar{x}}{\\zeta-1}$ and $\\bar{x} 2^{1/\\zeta}$, respectively. The mean can be obtained by $\\mathbb{E}(x)= \\int x f_P(x) dx$ and the median is the root for $\\frac{1}{2}=F_P(x)$ where $F_P(x)= 1-({\\frac{x}{\\bar{x}}})^{-\\zeta}$ is the cumulative density function for $x \\geq \\bar{x}$.\n",
    "\n",
    "If the log-normal distribution is $\\ln(x) \\sim \\mathcal{N}(\\mu, \\,\\sigma)$, then we can use the same approaches to find that its mean and median. The distribution for log-normal is\n",
    "$$g(x) = \\frac{1}{\\sigma x \\sqrt{2\\pi}} \\exp\\{ {-\\frac{(\\ln{x-\\mu})^2}{2\\sigma^2}} \\}.$$\n",
    "\n",
    "Thus, from $\\mathbb{E}(x)=\\int g(x)dx$, the mean is $\\exp(\\mu + \\frac{\\sigma^2}{2})$. In addition, the CDF is $G(x) = \\Phi(\\frac{\\ln(x)-\\mu}{\\sigma})$ where $\\Phi(.)$ is the CDF for standard normel. Then, using $\\frac{1}{2} = G(x)$, we know that $\\frac{\\ln(x)-\\mu}{\\sigma}=0$ and so the median is $\\exp(\\mu)$.\n",
    "\n",
    "Now, we can try to match the log-normal with Pareto distribution under Zipf's law. Since the first moment is infinite when $\\zeta=1$ for Pareto distribution, let $\\zeta$ be very close to one but not one. Following the assumption for simulation in (Gabaix, 2011), assume $\\bar{x}=1$. Then, fixing the mean and median of Pareto distribution (or fixing $\\zeta$ and $\\bar{x}$), if the mean and median for log-normal distribution are equal to those of Pareto distribution, we have\n",
    "\n",
    "\\begin{align*}\\label{eq:1}\n",
    "\\text{mean} \\quad & \\frac{\\zeta \\bar{x}}{\\zeta-1} = \\exp(\\mu + \\frac{\\sigma^2}{2}) \\\\\n",
    "\\text{median} \\quad & \\bar{x} 2^{1/\\zeta} = \\exp(\\mu) \\\\ \n",
    "\\end{align*}\n",
    "\n",
    "Solve the equation of median given $\\zeta$ and $\\bar{x}$, we have $\\mu = \\ln(\\bar{x} 2^{1/\\zeta})$. Plug this into the mean equation, we can get $\\sigma = (2 \\ln(\\frac{\\zeta}{\\zeta-1}) - \\frac{2}{\\zeta}\\ln2)^{1/2}$."
   ]
  },
  {
   "cell_type": "markdown",
   "metadata": {},
   "source": [
    "##### Use the formula to sove $\\mu$ and $\\sigma$ numerically and plot the distribution."
   ]
  },
  {
   "cell_type": "code",
   "execution_count": 12,
   "metadata": {
    "scrolled": true
   },
   "outputs": [
    {
     "data": {
      "image/png": "[encoded data removed]",
      "text/plain": [
       "<Figure size 432x288 with 1 Axes>"
      ]
     },
     "metadata": {
      "needs_background": "light"
     },
     "output_type": "display_data"
    },
    {
     "name": "stdout",
     "output_type": "stream",
     "text": [
      "μ=0.69315, σ=8.40839\n"
     ]
    }
   ],
   "source": [
    "# Pareto pdf\n",
    "ζ = 1 + np.finfo(float).eps  # under Zipf's law and the mean is finite\n",
    "a = 1\n",
    "f = lambda x: a*ζ / x**(ζ+1)\n",
    "\n",
    "# lognormal pdf\n",
    "σ = np.sqrt(2 * (np.log(ζ/(ζ-1)) - 1 / ζ * np.log(2)))\n",
    "μ = np.log(2) / ζ\n",
    "g = lambda x: 1/(x*σ*np.sqrt(2*np.pi)) * np.exp(-(np.log(x)-μ)**2 / (2*σ**2))\n",
    "\n",
    "xd = np.linspace(1,30, 100000)\n",
    "xd2 = np.linspace(0.02, 30, 100000)\n",
    "plt.plot(xd2, g(xd2), label='lognormal')\n",
    "plt.plot(xd, f(xd), label='Pareto')\n",
    "plt.xlabel('x')\n",
    "plt.ylabel('probability')\n",
    "plt.legend()\n",
    "plt.show()\n",
    "print('μ=%1.5f, σ=%1.5f'%(μ, σ))"
   ]
  },
  {
   "cell_type": "markdown",
   "metadata": {},
   "source": [
    "Simulate the herfindahl of log-normal for $\\mu=0.69315$ and $\\sigma=8.40839$. "
   ]
  },
  {
   "cell_type": "code",
   "execution_count": 52,
   "metadata": {},
   "outputs": [
    {
     "name": "stdout",
     "output_type": "stream",
     "text": [
      "0.5942463163571974\n"
     ]
    }
   ],
   "source": [
    "@njit(parallel=True)\n",
    "def h_lognormal(nSim, mu, sigma, N=1000000):\n",
    "    \n",
    "    h = np.zeros(nSim)\n",
    "    for i in range(nSim):    \n",
    "        size = np.random.lognormal(mu, sigma, size=N)        \n",
    "        mask=size>1\n",
    "        h[i] = np.sqrt(np.sum(np.square(size[mask] / np.sum(size[mask]))))\n",
    "    return h    \n",
    "\n",
    "\n",
    "h = h_lognormal(nSim=1000, mu=0.69315, sigma=8.40839)\n",
    "print(np.median(h))"
   ]
  },
  {
   "cell_type": "markdown",
   "metadata": {},
   "source": [
    " $(\\mu, \\sigma)=(0.69315, 8.40839)$ are shape parameters for matched log-normal under Zipf's law($\\zeta$ is close to one but not one). In this case, the herfindahl is 59.42% which is much higher than 12% of Pareto distribution. \n",
    " \n",
    " When firm's growth rate is 12%, the deviation of growth rate $ \\sigma_{GDP} = h\\sigma $ is around 7.2% for log-normal which is also higher than 1.36% of Pareto ($11.3\\% \\times 12\\%$). Since the empirically measured macroeconomic fluctuation is around 1%, the log-normal distribution is not reasonable under this matching."
   ]
  }
 ],
 "metadata": {
  "kernelspec": {
   "display_name": "Python 3",
   "language": "python",
   "name": "python3"
  },
  "language_info": {
   "codemirror_mode": {
    "name": "ipython",
    "version": 3
   },
   "file_extension": ".py",
   "mimetype": "text/x-python",
   "name": "python",
   "nbconvert_exporter": "python",
   "pygments_lexer": "ipython3",
   "version": "3.7.3"
  }
 },
 "nbformat": 4,
 "nbformat_minor": 2
}
